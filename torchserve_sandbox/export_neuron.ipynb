{
 "metadata": {
  "language_info": {
   "codemirror_mode": {
    "name": "ipython",
    "version": 3
   },
   "file_extension": ".py",
   "mimetype": "text/x-python",
   "name": "python",
   "nbconvert_exporter": "python",
   "pygments_lexer": "ipython3",
   "version": "3.7.10-final"
  },
  "orig_nbformat": 2,
  "kernelspec": {
   "name": "python3",
   "display_name": "Python 3"
  }
 },
 "nbformat": 4,
 "nbformat_minor": 2,
 "cells": [
  {
   "cell_type": "code",
   "execution_count": 2,
   "metadata": {},
   "outputs": [],
   "source": [
    "import torch\n",
    "import numpy as np\n",
    "import os\n",
    "import torch.neuron\n",
    "import blink.main_dense as main_dense\n",
    "import argparse\n",
    "import json \n",
    "import time"
   ]
  },
  {
   "cell_type": "code",
   "execution_count": 4,
   "metadata": {},
   "outputs": [],
   "source": [
    "#models_path = \"../models/\" # the path where you stored the BLINK models\n",
    "models_path = \"/home/ubuntu/BLINK/torchserve_sandbox/model_support\"#'/opt/models/model-support/'#\"model_store/\" # the path where you stored the BLINK models\n",
    "\n",
    "config = {\n",
    "    \"test_entities\": None,\n",
    "    \"test_mentions\": None,\n",
    "    \"interactive\": False,\n",
    "    \"top_k\": 10,\n",
    "    \"biencoder_model\": models_path+\"/biencoder_wiki_large.bin\",\n",
    "    \"biencoder_config\": models_path+\"/biencoder_wiki_large.json\",\n",
    "    \"entity_catalogue\": models_path+\"/entity.jsonl\",\n",
    "    \"entity_encoding\": models_path+\"/all_entities_large.t7\",\n",
    "    \"crossencoder_model\": models_path+\"/crossencoder_wiki_large.bin\",\n",
    "    \"crossencoder_config\": models_path+\"/crossencoder_wiki_large.json\",\n",
    "    \"fast\": True, # set this to be true if speed is a concern\n",
    "    \"output_path\": \"logs/\" # logging directory\n",
    "}\n",
    "\n",
    "args = argparse.Namespace(**config)\n",
    "\n",
    "data_to_link = [ {\n",
    "                    \"id\": 0,\n",
    "                    \"label\": \"unknown\",\n",
    "                    \"label_id\": -1,\n",
    "                    \"context_left\": \"\".lower(),\n",
    "                    \"mention\": \"Shakespeare\".lower(),\n",
    "                    \"context_right\": \"'s account of the Roman general Julius Caesar's murder by his friend Brutus is a meditation on duty.\".lower(),\n",
    "                },\n",
    "                {\n",
    "                    \"id\": 1,\n",
    "                    \"label\": \"unknown\",\n",
    "                    \"label_id\": -1,\n",
    "                    \"context_left\": \"Shakespeare's account of the Roman general\".lower(),\n",
    "                    \"mention\": \"Julius Caesar\".lower(),\n",
    "                    \"context_right\": \"'s murder by his friend Brutus is a meditation on duty.\".lower(),\n",
    "                }\n",
    "                ]"
   ]
  },
  {
   "cell_type": "code",
   "execution_count": 5,
   "metadata": {},
   "outputs": [
    {
     "output_type": "stream",
     "name": "stdout",
     "text": [
      "cuda\n"
     ]
    }
   ],
   "source": [
    "models = main_dense.load_models(args, logger=None)\n",
    "\n",
    "biencoder, biencoder_params, crossencoder, crossencoder_params, candidate_encoding, title2id, id2title, id2text, wikipedia_id2local_id, faiss_indexer = models\n"
   ]
  },
  {
   "cell_type": "code",
   "execution_count": 6,
   "metadata": {},
   "outputs": [],
   "source": [
    "cand_encs = torch.load('sample_input/cand_encs.pt')\n",
    "text_vecs = torch.load('sample_input/text_vecs.pt')"
   ]
  },
  {
   "cell_type": "code",
   "execution_count": 7,
   "metadata": {},
   "outputs": [],
   "source": [
    "cand_vecs = None \n",
    "random_negs = True\n",
    "model = biencoder\n",
    "inputs = [text_vecs, cand_encs]"
   ]
  },
  {
   "cell_type": "code",
   "execution_count": 8,
   "metadata": {},
   "outputs": [
    {
     "output_type": "execute_result",
     "data": {
      "text/plain": [
       "tensor([[71.5984, 72.7923, 82.1700, 73.7910, 67.3760],\n",
       "        [72.4845, 84.5333, 72.7498, 68.8741, 63.2799]], device='cuda:0',\n",
       "       grad_fn=<MmBackward>)"
      ]
     },
     "metadata": {},
     "execution_count": 8
    }
   ],
   "source": [
    "x=model(*inputs)\n",
    "x"
   ]
  },
  {
   "cell_type": "code",
   "execution_count": 9,
   "metadata": {},
   "outputs": [
    {
     "output_type": "stream",
     "name": "stderr",
     "text": [
      "100%|██████████| 1/1 [00:00<00:00, 29.54it/s][['William Shakespeare', 'Romeo and Juliet'], ['Julius Caesar', 'William Shakespeare']]\n",
      "0.11205911636352539\n",
      "\n"
     ]
    }
   ],
   "source": [
    "start = time.time()\n",
    "\n",
    "_, _, _, _, _, predictions, scores, mention_found= main_dense.run(args, None, *models, test_data=data_to_link, REL_filter=True)\n",
    "print(predictions)\n",
    "\n",
    "end = time.time()\n",
    "print(end - start)"
   ]
  },
  {
   "cell_type": "code",
   "execution_count": 10,
   "metadata": {},
   "outputs": [],
   "source": [
    "module = torch.jit.trace(model, example_inputs=inputs)\n",
    "module.save(\"blink_entity_linking.pt\")"
   ]
  },
  {
   "cell_type": "code",
   "execution_count": 11,
   "metadata": {},
   "outputs": [],
   "source": [
    "module_loaded=torch.jit.load(\"blink_entity_linking.pt\")"
   ]
  },
  {
   "cell_type": "code",
   "execution_count": 12,
   "metadata": {},
   "outputs": [
    {
     "output_type": "execute_result",
     "data": {
      "text/plain": [
       "tensor([[71.5984, 72.7923, 82.1700, 73.7910, 67.3760],\n",
       "        [72.4845, 84.5333, 72.7498, 68.8741, 63.2799]], device='cuda:0',\n",
       "       grad_fn=<MmBackward>)"
      ]
     },
     "metadata": {},
     "execution_count": 12
    }
   ],
   "source": [
    "x=module_loaded(*inputs)\n",
    "x"
   ]
  },
  {
   "cell_type": "code",
   "execution_count": 13,
   "metadata": {},
   "outputs": [],
   "source": [
    "models_jit = module_loaded, biencoder_params, crossencoder, crossencoder_params, candidate_encoding, title2id, id2title, id2text, wikipedia_id2local_id, faiss_indexer "
   ]
  },
  {
   "cell_type": "code",
   "execution_count": 14,
   "metadata": {},
   "outputs": [
    {
     "output_type": "stream",
     "name": "stderr",
     "text": [
      "100%|██████████| 1/1 [00:00<00:00,  2.41it/s][['William Shakespeare', 'Romeo and Juliet'], ['Julius Caesar', 'William Shakespeare']]\n",
      "0.5657978057861328\n",
      "\n"
     ]
    }
   ],
   "source": [
    "start = time.time()\n",
    "\n",
    "_, _, _, _, _, predictions, scores, mention_found= main_dense.run(args, None, *models_jit, test_data=data_to_link, REL_filter=True)\n",
    "print(predictions)\n",
    "\n",
    "end = time.time()\n",
    "print(end - start)"
   ]
  },
  {
   "cell_type": "code",
   "execution_count": 6,
   "metadata": {},
   "outputs": [
    {
     "output_type": "error",
     "ename": "NameError",
     "evalue": "name 'biencoder' is not defined",
     "traceback": [
      "\u001b[0;31m---------------------------------------------------------------------------\u001b[0m",
      "\u001b[0;31mNameError\u001b[0m                                 Traceback (most recent call last)",
      "\u001b[0;32m<ipython-input-6-f7c5719937b5>\u001b[0m in \u001b[0;36m<module>\u001b[0;34m\u001b[0m\n\u001b[0;32m----> 1\u001b[0;31m \u001b[0mmodel\u001b[0m \u001b[0;34m=\u001b[0m \u001b[0mbiencoder\u001b[0m\u001b[0;34m\u001b[0m\u001b[0;34m\u001b[0m\u001b[0m\n\u001b[0m\u001b[1;32m      2\u001b[0m \u001b[0mcompiler_options\u001b[0m \u001b[0;34m=\u001b[0m \u001b[0;34m\"-O2\"\u001b[0m\u001b[0;34m\u001b[0m\u001b[0;34m\u001b[0m\u001b[0m\n\u001b[1;32m      3\u001b[0m \u001b[0moptimize\u001b[0m \u001b[0;34m=\u001b[0m \u001b[0;34m\"aggressive\"\u001b[0m\u001b[0;34m\u001b[0m\u001b[0;34m\u001b[0m\u001b[0m\n\u001b[1;32m      4\u001b[0m \u001b[0;34m\u001b[0m\u001b[0m\n\u001b[1;32m      5\u001b[0m \u001b[0mmodule_neuron\u001b[0m \u001b[0;34m=\u001b[0m \u001b[0mtorch\u001b[0m\u001b[0;34m.\u001b[0m\u001b[0mneuron\u001b[0m\u001b[0;34m.\u001b[0m\u001b[0mtrace\u001b[0m\u001b[0;34m(\u001b[0m\u001b[0mmodel\u001b[0m\u001b[0;34m,\u001b[0m \u001b[0mexample_inputs\u001b[0m\u001b[0;34m=\u001b[0m\u001b[0minputs\u001b[0m\u001b[0;34m,\u001b[0m \u001b[0mcompiler_args\u001b[0m\u001b[0;34m=\u001b[0m\u001b[0mcompiler_options\u001b[0m\u001b[0;34m,\u001b[0m \u001b[0moptimize\u001b[0m \u001b[0;34m=\u001b[0m \u001b[0moptimize\u001b[0m\u001b[0;34m)\u001b[0m\u001b[0;34m\u001b[0m\u001b[0;34m\u001b[0m\u001b[0m\n",
      "\u001b[0;31mNameError\u001b[0m: name 'biencoder' is not defined"
     ]
    }
   ],
   "source": [
    "model = biencoder\n",
    "compiler_options = \"-O2\"\n",
    "optimize = \"aggressive\"\n",
    "\n",
    "module_neuron = torch.neuron.trace(model, example_inputs=inputs, compiler_args=compiler_options, optimize = optimize)\n",
    "#model_neuron = torch.neuron.script(model, compiler_args=compiler_options, optimize = optimize)"
   ]
  },
  {
   "cell_type": "code",
   "execution_count": 32,
   "metadata": {},
   "outputs": [],
   "source": [
    "module_neuron.save(\"blink_enlity_linking_neuron.pt\")"
   ]
  },
  {
   "cell_type": "code",
   "execution_count": 17,
   "metadata": {},
   "outputs": [],
   "source": [
    "module_loaded_neuron=torch.jit.load(\"blink_enlity_linking_neuron.pt\")"
   ]
  },
  {
   "cell_type": "code",
   "execution_count": 18,
   "metadata": {},
   "outputs": [],
   "source": [
    "models_jit_neuron = module_loaded_neuron, biencoder_params, crossencoder, crossencoder_params, candidate_encoding, title2id, id2title, id2text, wikipedia_id2local_id, faiss_indexer "
   ]
  },
  {
   "cell_type": "code",
   "execution_count": null,
   "metadata": {},
   "outputs": [],
   "source": [
    "start = time.time()\n",
    "\n",
    "_, _, _, _, _, predictions, scores, = main_dense.run(args, None, *models_jit_neuron, test_data=data_to_link, REL_filter=True)\n",
    "print(predictions)\n",
    "\n",
    "end = time.time()\n",
    "print(end - start)"
   ]
  },
  {
   "cell_type": "code",
   "execution_count": null,
   "metadata": {},
   "outputs": [],
   "source": []
  },
  {
   "cell_type": "code",
   "execution_count": null,
   "metadata": {},
   "outputs": [],
   "source": []
  }
 ]
}