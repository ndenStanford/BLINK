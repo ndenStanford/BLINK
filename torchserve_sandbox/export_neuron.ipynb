{
 "metadata": {
  "language_info": {
   "codemirror_mode": {
    "name": "ipython",
    "version": 3
   },
   "file_extension": ".py",
   "mimetype": "text/x-python",
   "name": "python",
   "nbconvert_exporter": "python",
   "pygments_lexer": "ipython3",
   "version": "3.7.10-final"
  },
  "orig_nbformat": 2,
  "kernelspec": {
   "name": "python3",
   "display_name": "Python 3"
  }
 },
 "nbformat": 4,
 "nbformat_minor": 2,
 "cells": [
  {
   "cell_type": "code",
   "execution_count": 21,
   "metadata": {},
   "outputs": [],
   "source": [
    "import torch\n",
    "import numpy as np\n",
    "import os\n",
    "#import torch.neuron\n",
    "import blink.main_dense as main_dense\n",
    "import argparse\n",
    "import json \n",
    "import time\n",
    "import torch_neuron"
   ]
  },
  {
   "cell_type": "code",
   "execution_count": 22,
   "metadata": {},
   "outputs": [
    {
     "output_type": "stream",
     "name": "stdout",
     "text": [
      "1.10.1+cu102\n1.10.1.2.1.7.0\n"
     ]
    }
   ],
   "source": [
    "print(torch.__version__)\n",
    "print(torch_neuron.__version__)"
   ]
  },
  {
   "cell_type": "code",
   "execution_count": 4,
   "metadata": {},
   "outputs": [
    {
     "output_type": "execute_result",
     "data": {
      "text/plain": [
       "device(type='cuda')"
      ]
     },
     "metadata": {},
     "execution_count": 4
    }
   ],
   "source": [
    "device = torch.device(\n",
    "            \"cuda\" if torch.cuda.is_available() else \"cpu\"\n",
    "        )\n",
    "device"
   ]
  },
  {
   "cell_type": "code",
   "execution_count": 5,
   "metadata": {},
   "outputs": [],
   "source": [
    "#models_path = \"../models/\" # the path where you stored the BLINK models\n",
    "models_path = \"/home/ubuntu/BLINK/torchserve_sandbox/model_support\"#'/opt/models/model-support/'#\"model_store/\" # the path where you stored the BLINK models\n",
    "\n",
    "config = {\n",
    "    \"test_entities\": None,\n",
    "    \"test_mentions\": None,\n",
    "    \"interactive\": False,\n",
    "    \"top_k\": 10,\n",
    "    \"biencoder_model\": models_path+\"/biencoder_wiki_large.bin\",\n",
    "    \"biencoder_config\": models_path+\"/biencoder_wiki_large.json\",\n",
    "    \"entity_catalogue\": models_path+\"/entity.jsonl\",\n",
    "    \"entity_encoding\": models_path+\"/all_entities_large.t7\",\n",
    "    \"crossencoder_model\": models_path+\"/crossencoder_wiki_large.bin\",\n",
    "    \"crossencoder_config\": models_path+\"/crossencoder_wiki_large.json\",\n",
    "    \"fast\": True, # set this to be true if speed is a concern\n",
    "    \"output_path\": \"logs/\" # logging directory\n",
    "}\n",
    "\n",
    "args = argparse.Namespace(**config)\n",
    "\n",
    "data_to_link = [ {\n",
    "                    \"id\": 0,\n",
    "                    \"label\": \"unknown\",\n",
    "                    \"label_id\": -1,\n",
    "                    \"context_left\": \"\".lower(),\n",
    "                    \"mention\": \"Shakespeare\".lower(),\n",
    "                    \"context_right\": \"'s account of the Roman general Julius Caesar's murder by his friend Brutus is a meditation on duty.\".lower(),\n",
    "                },\n",
    "                {\n",
    "                    \"id\": 1,\n",
    "                    \"label\": \"unknown\",\n",
    "                    \"label_id\": -1,\n",
    "                    \"context_left\": \"Shakespeare's account of the Roman general\".lower(),\n",
    "                    \"mention\": \"Julius Caesar\".lower(),\n",
    "                    \"context_right\": \"'s murder by his friend Brutus is a meditation on duty.\".lower(),\n",
    "                }\n",
    "                ]"
   ]
  },
  {
   "cell_type": "code",
   "execution_count": 6,
   "metadata": {},
   "outputs": [
    {
     "output_type": "stream",
     "name": "stdout",
     "text": [
      "cuda\n"
     ]
    }
   ],
   "source": [
    "models = main_dense.load_models(args, logger=None)\n",
    "\n",
    "biencoder, biencoder_params, crossencoder, crossencoder_params, candidate_encoding, title2id, id2title, id2text, wikipedia_id2local_id, faiss_indexer = models\n"
   ]
  },
  {
   "cell_type": "code",
   "execution_count": 7,
   "metadata": {},
   "outputs": [],
   "source": [
    "cand_encs = torch.load('sample_input/cand_encs.pt')\n",
    "text_vecs = torch.load('sample_input/text_vecs.pt')\n",
    "inputs = [text_vecs, cand_encs]"
   ]
  },
  {
   "cell_type": "code",
   "execution_count": 8,
   "metadata": {},
   "outputs": [],
   "source": [
    "random_negs = True\n",
    "model = biencoder"
   ]
  },
  {
   "cell_type": "code",
   "execution_count": 9,
   "metadata": {},
   "outputs": [
    {
     "output_type": "execute_result",
     "data": {
      "text/plain": [
       "tensor([[71.5985, 72.7923, 82.1700, 73.7910, 67.3760],\n",
       "        [72.4845, 84.5333, 72.7498, 68.8741, 63.2799]], device='cuda:0',\n",
       "       grad_fn=<MmBackward0>)"
      ]
     },
     "metadata": {},
     "execution_count": 9
    }
   ],
   "source": [
    "x=model(*inputs)\n",
    "x"
   ]
  },
  {
   "cell_type": "code",
   "execution_count": 10,
   "metadata": {},
   "outputs": [
    {
     "output_type": "stream",
     "name": "stderr",
     "text": [
      "100%|██████████| 1/1 [00:00<00:00, 33.72it/s][['William Shakespeare', 'Romeo and Juliet'], ['Julius Caesar', 'William Shakespeare']]\n",
      "0.09079742431640625\n",
      "\n"
     ]
    }
   ],
   "source": [
    "start = time.time()\n",
    "\n",
    "_, _, _, _, _, predictions, scores, mention_found= main_dense.run(args, None, *models, test_data=data_to_link, REL_filter=True)\n",
    "print(predictions)\n",
    "\n",
    "end = time.time()\n",
    "print(end - start)"
   ]
  },
  {
   "cell_type": "code",
   "execution_count": 11,
   "metadata": {},
   "outputs": [],
   "source": [
    "module = torch.jit.trace(model, example_inputs=inputs)\n",
    "module.save(\"blink_entity_linking.pt\")"
   ]
  },
  {
   "cell_type": "code",
   "execution_count": 12,
   "metadata": {},
   "outputs": [],
   "source": [
    "module_loaded=torch.jit.load(\"blink_entity_linking.pt\")"
   ]
  },
  {
   "cell_type": "code",
   "execution_count": 13,
   "metadata": {},
   "outputs": [
    {
     "output_type": "execute_result",
     "data": {
      "text/plain": [
       "tensor([[71.5985, 72.7923, 82.1700, 73.7910, 67.3760],\n",
       "        [72.4845, 84.5333, 72.7498, 68.8741, 63.2799]], device='cuda:0',\n",
       "       grad_fn=<MmBackward0>)"
      ]
     },
     "metadata": {},
     "execution_count": 13
    }
   ],
   "source": [
    "x=module_loaded(*inputs)\n",
    "x"
   ]
  },
  {
   "cell_type": "code",
   "execution_count": 14,
   "metadata": {},
   "outputs": [],
   "source": [
    "models_jit = module_loaded, biencoder_params, crossencoder, crossencoder_params, candidate_encoding, title2id, id2title, id2text, wikipedia_id2local_id, faiss_indexer "
   ]
  },
  {
   "cell_type": "code",
   "execution_count": 15,
   "metadata": {},
   "outputs": [
    {
     "output_type": "stream",
     "name": "stderr",
     "text": [
      "100%|██████████| 1/1 [00:00<00:00,  2.08it/s][['William Shakespeare', 'Romeo and Juliet'], ['Julius Caesar', 'William Shakespeare']]\n",
      "0.5425407886505127\n",
      "\n"
     ]
    }
   ],
   "source": [
    "start = time.time()\n",
    "\n",
    "_, _, _, _, _, predictions, scores, mention_found= main_dense.run(args, None, *models_jit, test_data=data_to_link, REL_filter=True)\n",
    "print(predictions)\n",
    "\n",
    "end = time.time()\n",
    "print(end - start)"
   ]
  },
  {
   "cell_type": "code",
   "execution_count": 16,
   "metadata": {},
   "outputs": [
    {
     "output_type": "stream",
     "name": "stderr",
     "text": [
      "INFO:Neuron:There are 3 ops of 1 different types in the TorchScript that are not compiled by neuron-cc: aten::embedding, (For more information see https://github.com/aws/aws-neuron-sdk/blob/master/release-notes/neuron-cc-ops/neuron-cc-ops-pytorch.md)\n",
      "INFO:Neuron:Number of arithmetic operators (pre-compilation) before = 1205, fused = 1186, percent fused = 98.42%\n",
      "WARNING:tensorflow:From /home/ubuntu/anaconda3/envs/pytorch_latest_p37/lib/python3.7/site-packages/torch_neuron/ops/aten.py:1982: where (from tensorflow.python.ops.array_ops) is deprecated and will be removed in a future version.\n",
      "Instructions for updating:\n",
      "Use tf.where in 2.0, which has the same broadcast rule as np.where\n",
      "INFO:Neuron:Compiler args type is <class 'str'> value is -O2\n",
      "INFO:Neuron:Compiling function _NeuronGraph$1272 with neuron-cc\n",
      "INFO:Neuron:Compiling with command line: '/home/ubuntu/anaconda3/envs/pytorch_latest_p37/bin/neuron-cc compile /tmp/tmpf1lxpjac/graph_def.pb --framework TENSORFLOW --pipeline compile SaveTemps --output /tmp/tmpf1lxpjac/graph_def.neff --io-config {\"inputs\": {\"0:0\": [[2, 32, 1024], \"float32\"], \"1:0\": [[2, 1, 1, 32], \"float32\"], \"2:0\": [[5, 1024], \"float32\"]}, \"outputs\": [\"MatMul_192:0\"]} -O2 --verbose 35'\n",
      "INFO:Neuron:Number of arithmetic operators (post-compilation) before = 1205, compiled = 1186, percent compiled = 98.42%\n",
      "INFO:Neuron:The neuron partitioner created 1 sub-graphs\n",
      "INFO:Neuron:Neuron successfully compiled 1 sub-graphs, Total fused subgraphs = 1, Percent of model sub-graphs successfully compiled = 100.0%\n",
      "INFO:Neuron:Compiled these operators (and operator counts) to Neuron:\n",
      "INFO:Neuron: => aten::Int: 192\n",
      "INFO:Neuron: => aten::add: 96\n",
      "INFO:Neuron: => aten::contiguous: 24\n",
      "INFO:Neuron: => aten::div: 48\n",
      "INFO:Neuron: => aten::dropout: 73\n",
      "INFO:Neuron: => aten::erf: 24\n",
      "INFO:Neuron: => aten::layer_norm: 49\n",
      "INFO:Neuron: => aten::linear: 145\n",
      "INFO:Neuron: => aten::matmul: 48\n",
      "INFO:Neuron: => aten::mm: 1\n",
      "INFO:Neuron: => aten::mul: 48\n",
      "INFO:Neuron: => aten::permute: 96\n",
      "INFO:Neuron: => aten::select: 2\n",
      "INFO:Neuron: => aten::size: 192\n",
      "INFO:Neuron: => aten::slice: 3\n",
      "INFO:Neuron: => aten::softmax: 24\n",
      "INFO:Neuron: => aten::t: 1\n",
      "INFO:Neuron: => aten::transpose: 24\n",
      "INFO:Neuron: => aten::view: 96\n",
      "INFO:Neuron:Not compiled operators (and operator counts) to Neuron:\n",
      "INFO:Neuron: => aten::ScalarImplicit: 1 [supported]\n",
      "INFO:Neuron: => aten::add: 2 [supported]\n",
      "INFO:Neuron: => aten::arange: 1 [supported]\n",
      "INFO:Neuron: => aten::embedding: 3 [not supported]\n",
      "INFO:Neuron: => aten::expand_as: 1 [supported]\n",
      "INFO:Neuron: => aten::mul: 3 [supported]\n",
      "INFO:Neuron: => aten::ne: 1 [supported]\n",
      "INFO:Neuron: => aten::rsub: 1 [supported]\n",
      "INFO:Neuron: => aten::size: 1 [supported]\n",
      "INFO:Neuron: => aten::to: 2 [supported]\n",
      "INFO:Neuron: => aten::unsqueeze: 3 [supported]\n"
     ]
    }
   ],
   "source": [
    "# user newer neuron version, driver version etc. if cannot compiled\n",
    "model = biencoder\n",
    "compiler_options = \"-O2\"\n",
    "optimize = \"aggressive\"\n",
    "\n",
    "module_neuron = torch_neuron.trace(model, example_inputs=inputs, compiler_args=compiler_options, optimize = optimize)\n",
    "#model_neuron = torch.neuron.script(model, compiler_args=compiler_options, optimize = optimize)"
   ]
  },
  {
   "cell_type": "code",
   "execution_count": 17,
   "metadata": {},
   "outputs": [],
   "source": [
    "module_neuron.save(\"blink_enlity_linking_neuron.pt\")"
   ]
  },
  {
   "cell_type": "code",
   "execution_count": 18,
   "metadata": {},
   "outputs": [
    {
     "output_type": "execute_result",
     "data": {
      "text/plain": [
       "tensor([[71.5985, 72.7923, 82.1700, 73.7910, 67.3760],\n",
       "        [72.4845, 84.5333, 72.7498, 68.8741, 63.2799]], device='cuda:0',\n",
       "       grad_fn=<MmBackward0>)"
      ]
     },
     "metadata": {},
     "execution_count": 18
    }
   ],
   "source": [
    "model(*inputs)"
   ]
  },
  {
   "cell_type": "code",
   "execution_count": 19,
   "metadata": {},
   "outputs": [
    {
     "output_type": "execute_result",
     "data": {
      "text/plain": [
       "AwsNeuronGraphModule(\n",
       "  original_name=AwsNeuronGraphModule\n",
       "  (_NeuronGraph#55): NeuronModuleV2(original_name=NeuronModuleV2)\n",
       ")"
      ]
     },
     "metadata": {},
     "execution_count": 19
    }
   ],
   "source": [
    "module_neuron"
   ]
  },
  {
   "cell_type": "code",
   "execution_count": 20,
   "metadata": {},
   "outputs": [
    {
     "output_type": "error",
     "ename": "RuntimeError",
     "evalue": "The following operation failed in the TorchScript interpreter.\nTraceback of TorchScript (most recent call last):\n/home/ubuntu/anaconda3/envs/pytorch_latest_p37/lib/python3.7/site-packages/torch_neuron/decorators.py(373): forward\n/home/ubuntu/anaconda3/envs/pytorch_latest_p37/lib/python3.7/site-packages/torch/nn/modules/module.py(1090): _slow_forward\n/home/ubuntu/anaconda3/envs/pytorch_latest_p37/lib/python3.7/site-packages/torch/nn/modules/module.py(1102): _call_impl\n/home/ubuntu/anaconda3/envs/pytorch_latest_p37/lib/python3.7/site-packages/torch_neuron/graph.py(546): __call__\n/home/ubuntu/anaconda3/envs/pytorch_latest_p37/lib/python3.7/site-packages/torch_neuron/graph.py(205): run_op\n/home/ubuntu/anaconda3/envs/pytorch_latest_p37/lib/python3.7/site-packages/torch_neuron/graph.py(194): __call__\n/home/ubuntu/anaconda3/envs/pytorch_latest_p37/lib/python3.7/site-packages/torch_neuron/convert.py(216): forward\n/home/ubuntu/anaconda3/envs/pytorch_latest_p37/lib/python3.7/site-packages/torch/nn/modules/module.py(1090): _slow_forward\n/home/ubuntu/anaconda3/envs/pytorch_latest_p37/lib/python3.7/site-packages/torch/nn/modules/module.py(1102): _call_impl\n/home/ubuntu/anaconda3/envs/pytorch_latest_p37/lib/python3.7/site-packages/torch/jit/_trace.py(965): trace_module\n/home/ubuntu/anaconda3/envs/pytorch_latest_p37/lib/python3.7/site-packages/torch/jit/_trace.py(750): trace\n/home/ubuntu/anaconda3/envs/pytorch_latest_p37/lib/python3.7/site-packages/torch_neuron/convert.py(182): trace\n<ipython-input-16-6df2654aafae>(6): <module>\n/home/ubuntu/anaconda3/envs/pytorch_latest_p37/lib/python3.7/site-packages/IPython/core/interactiveshell.py(3427): run_code\n/home/ubuntu/anaconda3/envs/pytorch_latest_p37/lib/python3.7/site-packages/IPython/core/interactiveshell.py(3347): run_ast_nodes\n/home/ubuntu/anaconda3/envs/pytorch_latest_p37/lib/python3.7/site-packages/IPython/core/interactiveshell.py(3156): run_cell_async\n/home/ubuntu/anaconda3/envs/pytorch_latest_p37/lib/python3.7/site-packages/IPython/core/async_helpers.py(68): _pseudo_sync_runner\n/home/ubuntu/anaconda3/envs/pytorch_latest_p37/lib/python3.7/site-packages/IPython/core/interactiveshell.py(2932): _run_cell\n/home/ubuntu/anaconda3/envs/pytorch_latest_p37/lib/python3.7/site-packages/IPython/core/interactiveshell.py(2887): run_cell\n/home/ubuntu/anaconda3/envs/pytorch_latest_p37/lib/python3.7/site-packages/ipykernel/zmqshell.py(536): run_cell\n/home/ubuntu/anaconda3/envs/pytorch_latest_p37/lib/python3.7/site-packages/ipykernel/ipkernel.py(306): do_execute\n/home/ubuntu/anaconda3/envs/pytorch_latest_p37/lib/python3.7/site-packages/tornado/gen.py(234): wrapper\n/home/ubuntu/anaconda3/envs/pytorch_latest_p37/lib/python3.7/site-packages/ipykernel/kernelbase.py(545): execute_request\n/home/ubuntu/anaconda3/envs/pytorch_latest_p37/lib/python3.7/site-packages/tornado/gen.py(234): wrapper\n/home/ubuntu/anaconda3/envs/pytorch_latest_p37/lib/python3.7/site-packages/ipykernel/kernelbase.py(268): dispatch_shell\n/home/ubuntu/anaconda3/envs/pytorch_latest_p37/lib/python3.7/site-packages/tornado/gen.py(234): wrapper\n/home/ubuntu/anaconda3/envs/pytorch_latest_p37/lib/python3.7/site-packages/ipykernel/kernelbase.py(365): process_one\n/home/ubuntu/anaconda3/envs/pytorch_latest_p37/lib/python3.7/site-packages/tornado/gen.py(775): run\n/home/ubuntu/anaconda3/envs/pytorch_latest_p37/lib/python3.7/site-packages/tornado/gen.py(741): __init__\n/home/ubuntu/anaconda3/envs/pytorch_latest_p37/lib/python3.7/site-packages/tornado/gen.py(250): wrapper\n/home/ubuntu/anaconda3/envs/pytorch_latest_p37/lib/python3.7/site-packages/ipykernel/kernelbase.py(381): dispatch_queue\n/home/ubuntu/anaconda3/envs/pytorch_latest_p37/lib/python3.7/site-packages/tornado/gen.py(775): run\n/home/ubuntu/anaconda3/envs/pytorch_latest_p37/lib/python3.7/site-packages/tornado/gen.py(814): inner\n/home/ubuntu/anaconda3/envs/pytorch_latest_p37/lib/python3.7/site-packages/tornado/ioloop.py(741): _run_callback\n/home/ubuntu/anaconda3/envs/pytorch_latest_p37/lib/python3.7/site-packages/tornado/ioloop.py(688): <lambda>\n/home/ubuntu/anaconda3/envs/pytorch_latest_p37/lib/python3.7/asyncio/events.py(88): _run\n/home/ubuntu/anaconda3/envs/pytorch_latest_p37/lib/python3.7/asyncio/base_events.py(1786): _run_once\n/home/ubuntu/anaconda3/envs/pytorch_latest_p37/lib/python3.7/asyncio/base_events.py(541): run_forever\n/home/ubuntu/anaconda3/envs/pytorch_latest_p37/lib/python3.7/site-packages/tornado/platform/asyncio.py(199): start\n/home/ubuntu/anaconda3/envs/pytorch_latest_p37/lib/python3.7/site-packages/ipykernel/kernelapp.py(612): start\n/home/ubuntu/anaconda3/envs/pytorch_latest_p37/lib/python3.7/site-packages/traitlets/config/application.py(845): launch_instance\n/home/ubuntu/anaconda3/envs/pytorch_latest_p37/lib/python3.7/site-packages/ipykernel_launcher.py(16): <module>\n/home/ubuntu/anaconda3/envs/pytorch_latest_p37/lib/python3.7/runpy.py(85): _run_code\n/home/ubuntu/anaconda3/envs/pytorch_latest_p37/lib/python3.7/runpy.py(193): _run_module_as_main\nRuntimeError: The PyTorch Neuron Runtime could not be initialized. Neuron Driver issues are logged\nto your system logs. See the Neuron Runtime's troubleshooting guide for help on this\ntopic: https://awsdocs-neuron.readthedocs-hosted.com/en/latest/\n",
     "traceback": [
      "\u001b[0;31m---------------------------------------------------------------------------\u001b[0m",
      "\u001b[0;31mRuntimeError\u001b[0m                              Traceback (most recent call last)",
      "\u001b[0;32m<ipython-input-20-e397289aff14>\u001b[0m in \u001b[0;36m<module>\u001b[0;34m\u001b[0m\n\u001b[0;32m----> 1\u001b[0;31m \u001b[0mmodule_neuron\u001b[0m\u001b[0;34m(\u001b[0m\u001b[0;34m*\u001b[0m\u001b[0minputs\u001b[0m\u001b[0;34m)\u001b[0m\u001b[0;34m\u001b[0m\u001b[0;34m\u001b[0m\u001b[0m\n\u001b[0m",
      "\u001b[0;32m~/anaconda3/envs/pytorch_latest_p37/lib/python3.7/site-packages/torch/nn/modules/module.py\u001b[0m in \u001b[0;36m_call_impl\u001b[0;34m(self, *input, **kwargs)\u001b[0m\n\u001b[1;32m   1100\u001b[0m         if not (self._backward_hooks or self._forward_hooks or self._forward_pre_hooks or _global_backward_hooks\n\u001b[1;32m   1101\u001b[0m                 or _global_forward_hooks or _global_forward_pre_hooks):\n\u001b[0;32m-> 1102\u001b[0;31m             \u001b[0;32mreturn\u001b[0m \u001b[0mforward_call\u001b[0m\u001b[0;34m(\u001b[0m\u001b[0;34m*\u001b[0m\u001b[0minput\u001b[0m\u001b[0;34m,\u001b[0m \u001b[0;34m**\u001b[0m\u001b[0mkwargs\u001b[0m\u001b[0;34m)\u001b[0m\u001b[0;34m\u001b[0m\u001b[0;34m\u001b[0m\u001b[0m\n\u001b[0m\u001b[1;32m   1103\u001b[0m         \u001b[0;31m# Do not call functions when jit is used\u001b[0m\u001b[0;34m\u001b[0m\u001b[0;34m\u001b[0m\u001b[0;34m\u001b[0m\u001b[0m\n\u001b[1;32m   1104\u001b[0m         \u001b[0mfull_backward_hooks\u001b[0m\u001b[0;34m,\u001b[0m \u001b[0mnon_full_backward_hooks\u001b[0m \u001b[0;34m=\u001b[0m \u001b[0;34m[\u001b[0m\u001b[0;34m]\u001b[0m\u001b[0;34m,\u001b[0m \u001b[0;34m[\u001b[0m\u001b[0;34m]\u001b[0m\u001b[0;34m\u001b[0m\u001b[0;34m\u001b[0m\u001b[0m\n",
      "\u001b[0;31mRuntimeError\u001b[0m: The following operation failed in the TorchScript interpreter.\nTraceback of TorchScript (most recent call last):\n/home/ubuntu/anaconda3/envs/pytorch_latest_p37/lib/python3.7/site-packages/torch_neuron/decorators.py(373): forward\n/home/ubuntu/anaconda3/envs/pytorch_latest_p37/lib/python3.7/site-packages/torch/nn/modules/module.py(1090): _slow_forward\n/home/ubuntu/anaconda3/envs/pytorch_latest_p37/lib/python3.7/site-packages/torch/nn/modules/module.py(1102): _call_impl\n/home/ubuntu/anaconda3/envs/pytorch_latest_p37/lib/python3.7/site-packages/torch_neuron/graph.py(546): __call__\n/home/ubuntu/anaconda3/envs/pytorch_latest_p37/lib/python3.7/site-packages/torch_neuron/graph.py(205): run_op\n/home/ubuntu/anaconda3/envs/pytorch_latest_p37/lib/python3.7/site-packages/torch_neuron/graph.py(194): __call__\n/home/ubuntu/anaconda3/envs/pytorch_latest_p37/lib/python3.7/site-packages/torch_neuron/convert.py(216): forward\n/home/ubuntu/anaconda3/envs/pytorch_latest_p37/lib/python3.7/site-packages/torch/nn/modules/module.py(1090): _slow_forward\n/home/ubuntu/anaconda3/envs/pytorch_latest_p37/lib/python3.7/site-packages/torch/nn/modules/module.py(1102): _call_impl\n/home/ubuntu/anaconda3/envs/pytorch_latest_p37/lib/python3.7/site-packages/torch/jit/_trace.py(965): trace_module\n/home/ubuntu/anaconda3/envs/pytorch_latest_p37/lib/python3.7/site-packages/torch/jit/_trace.py(750): trace\n/home/ubuntu/anaconda3/envs/pytorch_latest_p37/lib/python3.7/site-packages/torch_neuron/convert.py(182): trace\n<ipython-input-16-6df2654aafae>(6): <module>\n/home/ubuntu/anaconda3/envs/pytorch_latest_p37/lib/python3.7/site-packages/IPython/core/interactiveshell.py(3427): run_code\n/home/ubuntu/anaconda3/envs/pytorch_latest_p37/lib/python3.7/site-packages/IPython/core/interactiveshell.py(3347): run_ast_nodes\n/home/ubuntu/anaconda3/envs/pytorch_latest_p37/lib/python3.7/site-packages/IPython/core/interactiveshell.py(3156): run_cell_async\n/home/ubuntu/anaconda3/envs/pytorch_latest_p37/lib/python3.7/site-packages/IPython/core/async_helpers.py(68): _pseudo_sync_runner\n/home/ubuntu/anaconda3/envs/pytorch_latest_p37/lib/python3.7/site-packages/IPython/core/interactiveshell.py(2932): _run_cell\n/home/ubuntu/anaconda3/envs/pytorch_latest_p37/lib/python3.7/site-packages/IPython/core/interactiveshell.py(2887): run_cell\n/home/ubuntu/anaconda3/envs/pytorch_latest_p37/lib/python3.7/site-packages/ipykernel/zmqshell.py(536): run_cell\n/home/ubuntu/anaconda3/envs/pytorch_latest_p37/lib/python3.7/site-packages/ipykernel/ipkernel.py(306): do_execute\n/home/ubuntu/anaconda3/envs/pytorch_latest_p37/lib/python3.7/site-packages/tornado/gen.py(234): wrapper\n/home/ubuntu/anaconda3/envs/pytorch_latest_p37/lib/python3.7/site-packages/ipykernel/kernelbase.py(545): execute_request\n/home/ubuntu/anaconda3/envs/pytorch_latest_p37/lib/python3.7/site-packages/tornado/gen.py(234): wrapper\n/home/ubuntu/anaconda3/envs/pytorch_latest_p37/lib/python3.7/site-packages/ipykernel/kernelbase.py(268): dispatch_shell\n/home/ubuntu/anaconda3/envs/pytorch_latest_p37/lib/python3.7/site-packages/tornado/gen.py(234): wrapper\n/home/ubuntu/anaconda3/envs/pytorch_latest_p37/lib/python3.7/site-packages/ipykernel/kernelbase.py(365): process_one\n/home/ubuntu/anaconda3/envs/pytorch_latest_p37/lib/python3.7/site-packages/tornado/gen.py(775): run\n/home/ubuntu/anaconda3/envs/pytorch_latest_p37/lib/python3.7/site-packages/tornado/gen.py(741): __init__\n/home/ubuntu/anaconda3/envs/pytorch_latest_p37/lib/python3.7/site-packages/tornado/gen.py(250): wrapper\n/home/ubuntu/anaconda3/envs/pytorch_latest_p37/lib/python3.7/site-packages/ipykernel/kernelbase.py(381): dispatch_queue\n/home/ubuntu/anaconda3/envs/pytorch_latest_p37/lib/python3.7/site-packages/tornado/gen.py(775): run\n/home/ubuntu/anaconda3/envs/pytorch_latest_p37/lib/python3.7/site-packages/tornado/gen.py(814): inner\n/home/ubuntu/anaconda3/envs/pytorch_latest_p37/lib/python3.7/site-packages/tornado/ioloop.py(741): _run_callback\n/home/ubuntu/anaconda3/envs/pytorch_latest_p37/lib/python3.7/site-packages/tornado/ioloop.py(688): <lambda>\n/home/ubuntu/anaconda3/envs/pytorch_latest_p37/lib/python3.7/asyncio/events.py(88): _run\n/home/ubuntu/anaconda3/envs/pytorch_latest_p37/lib/python3.7/asyncio/base_events.py(1786): _run_once\n/home/ubuntu/anaconda3/envs/pytorch_latest_p37/lib/python3.7/asyncio/base_events.py(541): run_forever\n/home/ubuntu/anaconda3/envs/pytorch_latest_p37/lib/python3.7/site-packages/tornado/platform/asyncio.py(199): start\n/home/ubuntu/anaconda3/envs/pytorch_latest_p37/lib/python3.7/site-packages/ipykernel/kernelapp.py(612): start\n/home/ubuntu/anaconda3/envs/pytorch_latest_p37/lib/python3.7/site-packages/traitlets/config/application.py(845): launch_instance\n/home/ubuntu/anaconda3/envs/pytorch_latest_p37/lib/python3.7/site-packages/ipykernel_launcher.py(16): <module>\n/home/ubuntu/anaconda3/envs/pytorch_latest_p37/lib/python3.7/runpy.py(85): _run_code\n/home/ubuntu/anaconda3/envs/pytorch_latest_p37/lib/python3.7/runpy.py(193): _run_module_as_main\nRuntimeError: The PyTorch Neuron Runtime could not be initialized. Neuron Driver issues are logged\nto your system logs. See the Neuron Runtime's troubleshooting guide for help on this\ntopic: https://awsdocs-neuron.readthedocs-hosted.com/en/latest/\n"
     ]
    }
   ],
   "source": [
    "module_neuron(*inputs)"
   ]
  },
  {
   "cell_type": "code",
   "execution_count": 20,
   "metadata": {},
   "outputs": [],
   "source": [
    "module_loaded_neuron=torch.jit.load(\"working_neuron/blink_enlity_linking_neuron.pt\")"
   ]
  },
  {
   "cell_type": "code",
   "execution_count": 24,
   "metadata": {},
   "outputs": [
    {
     "output_type": "execute_result",
     "data": {
      "text/plain": [
       "RecursiveScriptModule(\n",
       "  original_name=AwsNeuronGraphModule\n",
       "  (_NeuronGraph#55): RecursiveScriptModule(original_name=NeuronModule)\n",
       ")"
      ]
     },
     "metadata": {},
     "execution_count": 24
    }
   ],
   "source": [
    "module_loaded_neuron"
   ]
  },
  {
   "cell_type": "code",
   "execution_count": 21,
   "metadata": {},
   "outputs": [
    {
     "output_type": "execute_result",
     "data": {
      "text/plain": [
       "tensor([[71.5984, 72.7923, 82.1700, 73.7910, 67.3760],\n",
       "        [72.4845, 84.5333, 72.7498, 68.8741, 63.2799]])"
      ]
     },
     "metadata": {},
     "execution_count": 21
    }
   ],
   "source": [
    "module_loaded_neuron.forward(*inputs)"
   ]
  },
  {
   "cell_type": "code",
   "execution_count": 22,
   "metadata": {},
   "outputs": [],
   "source": [
    "models_jit_neuron = module_loaded_neuron, biencoder_params, crossencoder, crossencoder_params, candidate_encoding, title2id, id2title, id2text, wikipedia_id2local_id, faiss_indexer "
   ]
  },
  {
   "cell_type": "code",
   "execution_count": 23,
   "metadata": {},
   "outputs": [
    {
     "output_type": "stream",
     "name": "stderr",
     "text": [
      "  0%|          | 0/1 [00:00<?, ?it/s]\n"
     ]
    },
    {
     "output_type": "error",
     "ename": "RuntimeError",
     "evalue": "forward() is missing value for argument 'argument_2'. Declaration: forward(__torch__.torch_neuron.convert.AwsNeuronGraphModule self, Tensor argument_1, Tensor argument_2) -> (Tensor)",
     "traceback": [
      "\u001b[0;31m---------------------------------------------------------------------------\u001b[0m",
      "\u001b[0;31mRuntimeError\u001b[0m                              Traceback (most recent call last)",
      "\u001b[0;32m<ipython-input-23-0f29c679615e>\u001b[0m in \u001b[0;36m<module>\u001b[0;34m\u001b[0m\n\u001b[1;32m      1\u001b[0m \u001b[0mstart\u001b[0m \u001b[0;34m=\u001b[0m \u001b[0mtime\u001b[0m\u001b[0;34m.\u001b[0m\u001b[0mtime\u001b[0m\u001b[0;34m(\u001b[0m\u001b[0;34m)\u001b[0m\u001b[0;34m\u001b[0m\u001b[0;34m\u001b[0m\u001b[0m\n\u001b[1;32m      2\u001b[0m \u001b[0;34m\u001b[0m\u001b[0m\n\u001b[0;32m----> 3\u001b[0;31m \u001b[0m_\u001b[0m\u001b[0;34m,\u001b[0m \u001b[0m_\u001b[0m\u001b[0;34m,\u001b[0m \u001b[0m_\u001b[0m\u001b[0;34m,\u001b[0m \u001b[0m_\u001b[0m\u001b[0;34m,\u001b[0m \u001b[0m_\u001b[0m\u001b[0;34m,\u001b[0m \u001b[0mpredictions\u001b[0m\u001b[0;34m,\u001b[0m \u001b[0mscores\u001b[0m\u001b[0;34m,\u001b[0m \u001b[0;34m=\u001b[0m \u001b[0mmain_dense\u001b[0m\u001b[0;34m.\u001b[0m\u001b[0mrun\u001b[0m\u001b[0;34m(\u001b[0m\u001b[0margs\u001b[0m\u001b[0;34m,\u001b[0m \u001b[0;32mNone\u001b[0m\u001b[0;34m,\u001b[0m \u001b[0;34m*\u001b[0m\u001b[0mmodels_jit_neuron\u001b[0m\u001b[0;34m,\u001b[0m \u001b[0mtest_data\u001b[0m\u001b[0;34m=\u001b[0m\u001b[0mdata_to_link\u001b[0m\u001b[0;34m,\u001b[0m \u001b[0mREL_filter\u001b[0m\u001b[0;34m=\u001b[0m\u001b[0;32mTrue\u001b[0m\u001b[0;34m)\u001b[0m\u001b[0;34m\u001b[0m\u001b[0;34m\u001b[0m\u001b[0m\n\u001b[0m\u001b[1;32m      4\u001b[0m \u001b[0mprint\u001b[0m\u001b[0;34m(\u001b[0m\u001b[0mpredictions\u001b[0m\u001b[0;34m)\u001b[0m\u001b[0;34m\u001b[0m\u001b[0;34m\u001b[0m\u001b[0m\n\u001b[1;32m      5\u001b[0m \u001b[0;34m\u001b[0m\u001b[0m\n",
      "\u001b[0;32m~/BLINK/blink/main_dense.py\u001b[0m in \u001b[0;36mrun\u001b[0;34m(args, logger, biencoder, biencoder_params, crossencoder, crossencoder_params, candidate_encoding, title2id, id2title, id2text, wikipedia_id2local_id, faiss_indexer, test_data, REL_filter)\u001b[0m\n\u001b[1;32m    505\u001b[0m         \u001b[0mtop_k\u001b[0m \u001b[0;34m=\u001b[0m \u001b[0margs\u001b[0m\u001b[0;34m.\u001b[0m\u001b[0mtop_k\u001b[0m\u001b[0;34m\u001b[0m\u001b[0;34m\u001b[0m\u001b[0m\n\u001b[1;32m    506\u001b[0m         labels, nns, scores = _run_biencoder(\n\u001b[0;32m--> 507\u001b[0;31m             \u001b[0mbiencoder\u001b[0m\u001b[0;34m,\u001b[0m \u001b[0mdataloader\u001b[0m\u001b[0;34m,\u001b[0m \u001b[0mcandidate_encoding\u001b[0m\u001b[0;34m,\u001b[0m \u001b[0mtop_k\u001b[0m\u001b[0;34m,\u001b[0m \u001b[0mfaiss_indexer\u001b[0m\u001b[0;34m\u001b[0m\u001b[0;34m\u001b[0m\u001b[0m\n\u001b[0m\u001b[1;32m    508\u001b[0m         )\n\u001b[1;32m    509\u001b[0m \u001b[0;34m\u001b[0m\u001b[0m\n",
      "\u001b[0;32m~/BLINK/blink/main_dense.py\u001b[0m in \u001b[0;36m_run_biencoder\u001b[0;34m(biencoder, dataloader, candidate_encoding, top_k, indexer)\u001b[0m\n\u001b[1;32m    275\u001b[0m                 scores = biencoder(\n\u001b[1;32m    276\u001b[0m                     \u001b[0;31m#context_input, None, cand_encs=candidate_encoding  # .to(device)\u001b[0m\u001b[0;34m\u001b[0m\u001b[0;34m\u001b[0m\u001b[0;34m\u001b[0m\u001b[0m\n\u001b[0;32m--> 277\u001b[0;31m                     \u001b[0mcontext_input\u001b[0m\u001b[0;34m.\u001b[0m\u001b[0mto\u001b[0m\u001b[0;34m(\u001b[0m\u001b[0mdevice\u001b[0m\u001b[0;34m)\u001b[0m\u001b[0;34m,\u001b[0m \u001b[0mcand_encs\u001b[0m\u001b[0;34m=\u001b[0m\u001b[0mcandidate_encoding\u001b[0m\u001b[0;34m.\u001b[0m\u001b[0mto\u001b[0m\u001b[0;34m(\u001b[0m\u001b[0mdevice\u001b[0m\u001b[0;34m)\u001b[0m\u001b[0;34m\u001b[0m\u001b[0;34m\u001b[0m\u001b[0m\n\u001b[0m\u001b[1;32m    278\u001b[0m                 )\n\u001b[1;32m    279\u001b[0m \u001b[0;34m\u001b[0m\u001b[0m\n",
      "\u001b[0;32m~/anaconda3/envs/pytorch_latest_p37/lib/python3.7/site-packages/torch/nn/modules/module.py\u001b[0m in \u001b[0;36m__call__\u001b[0;34m(self, *input, **kwargs)\u001b[0m\n\u001b[1;32m    548\u001b[0m             \u001b[0mresult\u001b[0m \u001b[0;34m=\u001b[0m \u001b[0mself\u001b[0m\u001b[0;34m.\u001b[0m\u001b[0m_slow_forward\u001b[0m\u001b[0;34m(\u001b[0m\u001b[0;34m*\u001b[0m\u001b[0minput\u001b[0m\u001b[0;34m,\u001b[0m \u001b[0;34m**\u001b[0m\u001b[0mkwargs\u001b[0m\u001b[0;34m)\u001b[0m\u001b[0;34m\u001b[0m\u001b[0;34m\u001b[0m\u001b[0m\n\u001b[1;32m    549\u001b[0m         \u001b[0;32melse\u001b[0m\u001b[0;34m:\u001b[0m\u001b[0;34m\u001b[0m\u001b[0;34m\u001b[0m\u001b[0m\n\u001b[0;32m--> 550\u001b[0;31m             \u001b[0mresult\u001b[0m \u001b[0;34m=\u001b[0m \u001b[0mself\u001b[0m\u001b[0;34m.\u001b[0m\u001b[0mforward\u001b[0m\u001b[0;34m(\u001b[0m\u001b[0;34m*\u001b[0m\u001b[0minput\u001b[0m\u001b[0;34m,\u001b[0m \u001b[0;34m**\u001b[0m\u001b[0mkwargs\u001b[0m\u001b[0;34m)\u001b[0m\u001b[0;34m\u001b[0m\u001b[0;34m\u001b[0m\u001b[0m\n\u001b[0m\u001b[1;32m    551\u001b[0m         \u001b[0;32mfor\u001b[0m \u001b[0mhook\u001b[0m \u001b[0;32min\u001b[0m \u001b[0mself\u001b[0m\u001b[0;34m.\u001b[0m\u001b[0m_forward_hooks\u001b[0m\u001b[0;34m.\u001b[0m\u001b[0mvalues\u001b[0m\u001b[0;34m(\u001b[0m\u001b[0;34m)\u001b[0m\u001b[0;34m:\u001b[0m\u001b[0;34m\u001b[0m\u001b[0;34m\u001b[0m\u001b[0m\n\u001b[1;32m    552\u001b[0m             \u001b[0mhook_result\u001b[0m \u001b[0;34m=\u001b[0m \u001b[0mhook\u001b[0m\u001b[0;34m(\u001b[0m\u001b[0mself\u001b[0m\u001b[0;34m,\u001b[0m \u001b[0minput\u001b[0m\u001b[0;34m,\u001b[0m \u001b[0mresult\u001b[0m\u001b[0;34m)\u001b[0m\u001b[0;34m\u001b[0m\u001b[0;34m\u001b[0m\u001b[0m\n",
      "\u001b[0;31mRuntimeError\u001b[0m: forward() is missing value for argument 'argument_2'. Declaration: forward(__torch__.torch_neuron.convert.AwsNeuronGraphModule self, Tensor argument_1, Tensor argument_2) -> (Tensor)"
     ]
    }
   ],
   "source": [
    "start = time.time()\n",
    "\n",
    "_, _, _, _, _, predictions, scores, = main_dense.run(args, None, *models_jit_neuron, test_data=data_to_link, REL_filter=True)\n",
    "print(predictions)\n",
    "\n",
    "end = time.time()\n",
    "print(end - start)"
   ]
  },
  {
   "cell_type": "code",
   "execution_count": null,
   "metadata": {},
   "outputs": [],
   "source": []
  },
  {
   "cell_type": "code",
   "execution_count": null,
   "metadata": {},
   "outputs": [],
   "source": []
  }
 ]
}