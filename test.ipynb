{
 "cells": [
  {
   "cell_type": "code",
   "execution_count": 2,
   "id": "505d4c8b",
   "metadata": {},
   "outputs": [],
   "source": [
    "import blink.main_dense as main_dense\n",
    "import argparse"
   ]
  },
  {
   "cell_type": "code",
   "execution_count": 3,
   "id": "483a1f3b",
   "metadata": {},
   "outputs": [
    {
     "output_type": "stream",
     "name": "stdout",
     "text": [
      "cpu\n"
     ]
    }
   ],
   "source": [
    "models_path = \"models/\" # the path where you stored the BLINK models\n",
    "\n",
    "config = {\n",
    "    \"test_entities\": None,\n",
    "    \"test_mentions\": None,\n",
    "    \"interactive\": False,\n",
    "    \"top_k\": 10,\n",
    "    \"biencoder_model\": models_path+\"biencoder_wiki_large.bin\",\n",
    "    \"biencoder_config\": models_path+\"biencoder_wiki_large.json\",\n",
    "    \"entity_catalogue\": models_path+\"entity.jsonl\",\n",
    "    \"entity_encoding\": models_path+\"all_entities_large.t7\",\n",
    "    \"crossencoder_model\": models_path+\"crossencoder_wiki_large.bin\",\n",
    "    \"crossencoder_config\": models_path+\"crossencoder_wiki_large.json\",\n",
    "    \"fast\": True, # set this to be true if speed is a concern\n",
    "    \"output_path\": \"logs/\" # logging directory\n",
    "}\n",
    "\n",
    "args = argparse.Namespace(**config)\n",
    "\n",
    "models = main_dense.load_models(args, logger=None)"
   ]
  },
  {
   "cell_type": "code",
   "execution_count": 10,
   "metadata": {},
   "outputs": [],
   "source": [
    "(biencoder, biencoder_params, crossencoder, crossencoder_params, candidate_encoding, title2id, id2title, id2text, wikipedia_id2local_id, faiss_indexer) = models"
   ]
  },
  {
   "cell_type": "code",
   "execution_count": null,
   "metadata": {},
   "outputs": [],
   "source": [
    "candidate_encoding[:5]"
   ]
  },
  {
   "cell_type": "code",
   "execution_count": 5,
   "id": "82b05eb8",
   "metadata": {},
   "outputs": [
    {
     "name": "stderr",
     "output_type": "stream",
     "text": [
      "100%|██████████| 1/1 [00:00<00:00,  2.23it/s]\n"
     ]
    }
   ],
   "source": [
    "data_to_link = [ {\n",
    "                    \"id\": 0,\n",
    "                    \"label\": \"unknown\",\n",
    "                    \"label_id\": -1,\n",
    "                    \"context_left\": \"\".lower(),\n",
    "                    \"mention\": \"Shakespeare\".lower(),\n",
    "                    \"context_right\": \"'s account of the Roman general Julius Caesar's murder by his friend Brutus is a meditation on duty.\".lower(),\n",
    "                },\n",
    "                {\n",
    "                    \"id\": 1,\n",
    "                    \"label\": \"unknown\",\n",
    "                    \"label_id\": -1,\n",
    "                    \"context_left\": \"Shakespeare's account of the Roman general\".lower(),\n",
    "                    \"mention\": \"Julius Caesar\".lower(),\n",
    "                    \"context_right\": \"'s murder by his friend Brutus is a meditation on duty.\".lower(),\n",
    "                }\n",
    "                ]\n",
    "\n",
    "_, _, _, _, _, predictions, scores, = main_dense.run(args, None, *models, test_data=data_to_link)\n"
   ]
  },
  {
   "cell_type": "code",
   "execution_count": 6,
   "id": "28d17d82",
   "metadata": {},
   "outputs": [
    {
     "data": {
      "text/plain": [
       "[['William Shakespeare',\n",
       "  'John Shakespeare',\n",
       "  'Tom Shakespeare',\n",
       "  'Edmund Shakespeare',\n",
       "  \"Shakespeare's plays\",\n",
       "  'Ivan Shakespeare',\n",
       "  'Nicholas Shakespeare',\n",
       "  'Richard Shakespeare',\n",
       "  'Ovid',\n",
       "  'John Milton'],\n",
       " ['Julius Caesar',\n",
       "  'Lucius Julius Caesar (consul 90 BC)',\n",
       "  'Julius Caesar (play)',\n",
       "  'Drusus Julius Caesar',\n",
       "  'Julius Caesar (judge)',\n",
       "  'Gaius Caesar',\n",
       "  'Julius Caesar (cricketer)',\n",
       "  'Gaius Julius Caesar (proconsul)',\n",
       "  'Gaius Julius Caesar',\n",
       "  'Assassination of Julius Caesar']]"
      ]
     },
     "execution_count": 6,
     "metadata": {},
     "output_type": "execute_result"
    }
   ],
   "source": [
    "predictions"
   ]
  },
  {
   "cell_type": "code",
   "execution_count": 7,
   "id": "533200dd",
   "metadata": {},
   "outputs": [
    {
     "data": {
      "text/plain": [
       "[array([82.16999 , 76.93089 , 76.7972  , 76.73891 , 76.6671  , 76.14524 ,\n",
       "        75.962494, 75.34886 , 75.345146, 75.21044 ], dtype=float32),\n",
       " array([84.53334 , 78.688965, 78.4109  , 78.387276, 78.20908 , 78.02249 ,\n",
       "        78.016266, 77.442604, 77.3874  , 77.199356], dtype=float32)]"
      ]
     },
     "execution_count": 7,
     "metadata": {},
     "output_type": "execute_result"
    }
   ],
   "source": [
    "scores"
   ]
  },
  {
   "cell_type": "code",
   "execution_count": null,
   "id": "5fb46a25",
   "metadata": {},
   "outputs": [],
   "source": []
  }
 ],
 "metadata": {
  "kernelspec": {
   "display_name": "Python 3",
   "language": "python",
   "name": "python3"
  },
  "language_info": {
   "codemirror_mode": {
    "name": "ipython",
    "version": 3
   },
   "file_extension": ".py",
   "mimetype": "text/x-python",
   "name": "python",
   "nbconvert_exporter": "python",
   "pygments_lexer": "ipython3",
   "version": "3.7.10-final"
  }
 },
 "nbformat": 4,
 "nbformat_minor": 5
}